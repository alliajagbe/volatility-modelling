{
 "cells": [
  {
   "cell_type": "code",
   "execution_count": 9,
   "metadata": {},
   "outputs": [],
   "source": [
    "import yfinance as yf\n",
    "import pandas as pd\n",
    "from datetime import datetime\n",
    "from arch import arch_model\n",
    "import matplotlib.pyplot as plt\n",
    "import warnings \n",
    "warnings.filterwarnings(\"ignore\")"
   ]
  },
  {
   "cell_type": "code",
   "execution_count": 4,
   "metadata": {},
   "outputs": [],
   "source": [
    "start_date = \"2022-08-30\"\n",
    "end_date = \"2024-09-30\""
   ]
  },
  {
   "cell_type": "code",
   "execution_count": 6,
   "metadata": {},
   "outputs": [
    {
     "name": "stderr",
     "output_type": "stream",
     "text": [
      "[*********************100%%**********************]  1 of 1 completed\n",
      "[*********************100%%**********************]  1 of 1 completed\n",
      "[*********************100%%**********************]  1 of 1 completed\n"
     ]
    }
   ],
   "source": [
    "exchange_tickers = [\"ZAR=X\", \"AUDUSD=X\", \"GBPUSD=X\"]\n",
    "exchange_data = {ticker: yf.download(ticker, start=start_date, end=end_date) for ticker in exchange_tickers}"
   ]
  },
  {
   "cell_type": "code",
   "execution_count": 8,
   "metadata": {},
   "outputs": [
    {
     "name": "stdout",
     "output_type": "stream",
     "text": [
      "Data for ZAR=X\n",
      "                 Open       High        Low      Close  Adj Close  Volume\n",
      "Date                                                                     \n",
      "2022-08-30  16.809641  16.972799  16.745100  16.809641  16.809641       0\n",
      "2022-08-31  16.957800  17.087179  16.858629  16.957800  16.957800       0\n",
      "2022-09-01  17.105209  17.304930  17.088301  17.105209  17.105209       0\n",
      "2022-09-02  17.251900  17.345699  17.172701  17.251900  17.251900       0\n",
      "2022-09-05  17.300900  17.418039  17.146500  17.300900  17.300900       0\n",
      "Data for AUDUSD=X\n",
      "                Open      High       Low     Close  Adj Close  Volume\n",
      "Date                                                                 \n",
      "2022-08-30  0.690751  0.695797  0.685990  0.690751   0.690751       0\n",
      "2022-08-31  0.685740  0.690422  0.684340  0.685740   0.685740       0\n",
      "2022-09-01  0.682850  0.684360  0.677172  0.682850   0.682850       0\n",
      "2022-09-02  0.679530  0.685380  0.678109  0.679530   0.679530       0\n",
      "2022-09-05  0.679030  0.680411  0.677360  0.679030   0.679030       0\n",
      "Data for GBPUSD=X\n",
      "                Open      High       Low     Close  Adj Close  Volume\n",
      "Date                                                                 \n",
      "2022-08-30  1.172127  1.175807  1.162304  1.172251   1.172251       0\n",
      "2022-08-31  1.166086  1.169454  1.160025  1.165977   1.165977       0\n",
      "2022-09-01  1.159689  1.161710  1.150324  1.159851   1.159851       0\n",
      "2022-09-02  1.154734  1.158856  1.153136  1.154894   1.154894       0\n",
      "2022-09-05  1.147855  1.152074  1.144518  1.147460   1.147460       0\n"
     ]
    }
   ],
   "source": [
    "for ticker, data in exchange_data.items():\n",
    "    print(f\"Data for {ticker}\")\n",
    "    print(data.head())"
   ]
  },
  {
   "cell_type": "code",
   "execution_count": 10,
   "metadata": {},
   "outputs": [],
   "source": [
    "def calculate_returns(df):\n",
    "    df['Returns'] = df['Adj Close'].pct_change().dropna() * 100\n",
    "    return df['Returns'].dropna()"
   ]
  },
  {
   "cell_type": "code",
   "execution_count": 11,
   "metadata": {},
   "outputs": [],
   "source": [
    "def fit_garch_model(returns, model_type='GARCH'):\n",
    "    if model_type == 'ARCH':\n",
    "        model = arch_model(returns, vol='Arch', p=1)\n",
    "    elif model_type == 'GARCH':\n",
    "        model = arch_model(returns, vol='Garch', p=1, q=1)\n",
    "    elif model_type == 'EGARCH':\n",
    "        model = arch_model(returns, vol='EGarch', p=1, q=1)\n",
    "    elif model_type == 'TGARCH':\n",
    "        model = arch_model(returns, vol='Garch', p=1, o=1, q=1)\n",
    "    else:\n",
    "        raise ValueError(f\"Unsupport model type: {model_type}\")\n",
    "    \n",
    "    model_fit = model.fit(disp='off')\n",
    "    return model_fit"
   ]
  },
  {
   "cell_type": "code",
   "execution_count": null,
   "metadata": {},
   "outputs": [],
   "source": [
    "def visualize_results(returns, model_results, title):\n",
    "\n",
    "    # plot returns\n",
    "    plt.figure(figsize=(20, 10))\n",
    "    plt.subplot(2, 1, 1)\n",
    "    plt.plot(returns, label='Returns', color='blue')\n",
    "    plt.title(f\"Daily Returns for {title}\")\n",
    "    plt.xlabel('Date')\n",
    "    plt.ylabel('Returns')\n",
    "    plt.legend()\n",
    "\n",
    "    # plot volatility\n",
    "    plt.subplot(2, 1, 2)"
   ]
  }
 ],
 "metadata": {
  "kernelspec": {
   "display_name": "Python 3",
   "language": "python",
   "name": "python3"
  },
  "language_info": {
   "codemirror_mode": {
    "name": "ipython",
    "version": 3
   },
   "file_extension": ".py",
   "mimetype": "text/x-python",
   "name": "python",
   "nbconvert_exporter": "python",
   "pygments_lexer": "ipython3",
   "version": "3.11.4"
  }
 },
 "nbformat": 4,
 "nbformat_minor": 2
}
